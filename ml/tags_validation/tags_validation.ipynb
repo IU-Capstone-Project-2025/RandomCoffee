{
 "cells": [
  {
   "cell_type": "code",
   "execution_count": 1,
   "metadata": {},
   "outputs": [
    {
     "name": "stderr",
     "output_type": "stream",
     "text": [
      "[nltk_data] Downloading package wordnet to\n",
      "[nltk_data]     /Users/ivanilicev/nltk_data...\n",
      "[nltk_data]   Package wordnet is already up-to-date!\n",
      "[nltk_data] Downloading package words to\n",
      "[nltk_data]     /Users/ivanilicev/nltk_data...\n",
      "[nltk_data]   Package words is already up-to-date!\n"
     ]
    },
    {
     "data": {
      "text/plain": [
       "True"
      ]
     },
     "execution_count": 1,
     "metadata": {},
     "output_type": "execute_result"
    }
   ],
   "source": [
    "import nltk\n",
    "\n",
    "from nltk.corpus import wordnet\n",
    "nltk.download(\"wordnet\")\n",
    "\n",
    "from nltk.metrics.distance import jaccard_distance\n",
    "from nltk.util import ngrams\n",
    "\n",
    "from nltk.corpus import words\n",
    "nltk.download(\"words\")"
   ]
  },
  {
   "cell_type": "markdown",
   "metadata": {},
   "source": [
    "## The structure of json files that will be sent here\n",
    "#### Users_data \n",
    "```json\n",
    "{\n",
    "    \"users_data\": [\n",
    "        {\n",
    "            \"user_id\": \"...\",\n",
    "            \"bio\": \"...\",\n",
    "            \"tags\": [\"...\", \"...\"]\n",
    "        }\n",
    "        // more users\n",
    "    ]\n",
    "}\n",
    "```\n",
    "#### History\n",
    "```json\n",
    "{\n",
    "    \"history\": [\n",
    "        {//one session\n",
    "            \"user_id1\": \"...\",\n",
    "            \"user_id2\": \"...\",\n",
    "            \"timestamp\": \"...\"\n",
    "        }\n",
    "        // other\n",
    "    ]\n",
    "}"
   ]
  },
  {
   "cell_type": "code",
   "execution_count": 2,
   "metadata": {},
   "outputs": [],
   "source": [
    "# Function for getting user data\n",
    "def get_users_data():\n",
    "    pass"
   ]
  },
  {
   "cell_type": "code",
   "execution_count": 3,
   "metadata": {},
   "outputs": [],
   "source": [
    "def get_user_tags(user_data):\n",
    "    pass"
   ]
  },
  {
   "cell_type": "code",
   "execution_count": 4,
   "metadata": {},
   "outputs": [],
   "source": [
    "# Get users data in described format\n",
    "users_data = get_users_data()"
   ]
  },
  {
   "cell_type": "markdown",
   "metadata": {},
   "source": [
    "## Try to correct words, then check for their synonyms, and finally for a meaning"
   ]
  },
  {
   "cell_type": "code",
   "execution_count": 5,
   "metadata": {},
   "outputs": [],
   "source": [
    "# Define correct words from the nltk library\n",
    "correct_words = words.words()"
   ]
  },
  {
   "cell_type": "code",
   "execution_count": null,
   "metadata": {},
   "outputs": [],
   "source": [
    "for user in users_data:\n",
    "    for tag in user[\"tags\"]:\n",
    "        \n",
    "        best_corrected_word = [(jaccard_distance(set(ngrams(tag, 2)),\n",
    "                                  set(ngrams(word, 2))),\n",
    "                 word) for word in correct_words if word[0] == tag[0]]\n",
    "        \n",
    "        # For now just replace the word (if one was correct, it would still be the same),\n",
    "        # but further this improvement (replacement) should be demonstrated to a user, asking for\n",
    "        # this action\n",
    "        user[\"tags\"][user[\"tags\"].index(tag)] = sorted(best_corrected_word, key=lambda score: score[0])[0][1]\n",
    "        \n",
    "        \n",
    "    # After correcting all words, try to find synonyms and meanings of each word\n",
    "    for tag in user[\"tags\"]:\n",
    "        # Create a list for word synonyms\n",
    "        tag_synonyms = []\n",
    "        for synonym in wordnet.synsets(tag):\n",
    "            for lemma in synonym.lemmas():\n",
    "                tag_synonyms.append(lemma.name())\n",
    "                \n",
    "        # Remove duplicates\n",
    "        tag_synonyms = set(tag_synonyms)\n",
    "        \n",
    "        if len(wordnet.synsets(tag)) == 0 and len(tag_synonyms):\n",
    "            user[\"tags\"].remove(tag)"
   ]
  },
  {
   "cell_type": "code",
   "execution_count": 6,
   "metadata": {},
   "outputs": [],
   "source": [
    "# Return processed tags\n",
    "def return_user_data_with_cleaned_tags():\n",
    "    return users_data"
   ]
  }
 ],
 "metadata": {
  "kernelspec": {
   "display_name": ".venv",
   "language": "python",
   "name": "python3"
  },
  "language_info": {
   "codemirror_mode": {
    "name": "ipython",
    "version": 3
   },
   "file_extension": ".py",
   "mimetype": "text/x-python",
   "name": "python",
   "nbconvert_exporter": "python",
   "pygments_lexer": "ipython3",
   "version": "3.13.3"
  }
 },
 "nbformat": 4,
 "nbformat_minor": 2
}
